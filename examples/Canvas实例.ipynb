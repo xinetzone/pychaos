{
 "cells": [
  {
   "cell_type": "code",
   "execution_count": null,
   "metadata": {},
   "outputs": [],
   "source": [
    "import sys\n",
    "sys.path.append('..')"
   ]
  },
  {
   "cell_type": "markdown",
   "metadata": {},
   "source": [
    "## 1 更加友好的画图操作\n",
    "\n",
    "`tkinterx` 提供了 `CanvasMeta` 来代替 tkinter 的 `Canvas` 进行画图。"
   ]
  },
  {
   "cell_type": "code",
   "execution_count": null,
   "metadata": {},
   "outputs": [],
   "source": [
    "def test_CanvasMeta():\n",
    "    from tkinter import Tk\n",
    "    from tkinterx.graph.canvas import CanvasMeta\n",
    "    root = Tk()\n",
    "    root.columnconfigure(0, weight=1)\n",
    "    root.rowconfigure(0, weight=1)\n",
    "    self = CanvasMeta(root)\n",
    "    kw = {\n",
    "        'color': 'purple',\n",
    "        'dash': 2,\n",
    "        'width': 3,\n",
    "    }\n",
    "    self.create_graph('line', [20, 20, 100, 200], **kw)\n",
    "    self.create_graph('oval', [50, 80, 100, 200], fill='red', **kw)\n",
    "    self.create_graph('rectangle', [170, 80, 220, 200], fill='yellow', **kw)\n",
    "    self.create_graph('arc', [180, 100, 250, 260],\n",
    "                      tags='test',\n",
    "                      fill='lightblue', style='chord', **kw)\n",
    "    self.create_graph('polygon', [(270, 80), (220, 170), (230, 90)], fill='blue', **kw)\n",
    "    self.create_graph('polygon', ((70, 80), (20, 70), (30, 90)), fill='purple', **kw)\n",
    "    self.grid(row=0, column=0)\n",
    "    print((self.gettags(1)))\n",
    "    print((self.find_withtag('test')))\n",
    "    root.mainloop()"
   ]
  },
  {
   "cell_type": "markdown",
   "metadata": {},
   "source": [
    "`CanvasMeta` 提供了一个统一的 2D 画图接口，`create_graph(graph_type, *directions, color='blue', width=1, tags=None, **kwargs)`。\n",
    "\n",
    "- `graph_type`：指定画图的类型，有 'rectangle', 'oval', 'line', 'arc', 'polygon'。\n",
    "- `directions`：指定您要画图形的对角线的方向向量 $d = (x_0, y_0, x_1, y_1)$，其中 $(x_0, y_0)$ 与 $(x_1, y_1)$ 分别表示图形的左上角与右下角坐标。graph_type 为 `'polygon'` 的图形则可以 `*points` 形式指定 `directions` 的值。\n",
    "- `color`：表示图形的颜色。\n",
    "- `width`：表示图形的宽度。\n",
    "- `tags`：表示图对象的标识 id 绑定的标签信息。比如 `['line', 'graph']`，`('test', 'graph')`, `'line'`，`'line graph'`。需要注意的是，像 `'1'`、`'1 2 2'` 这种纯数字的标签是无效的。如果 `tags` 为 `None` 则默认添加标签 `[graph_type, 'graph']`\n",
    "- `fill`：表示图形的填充颜色，由于 `'line'` 无法填充，所以此参数对于 `graph_type` 为 `'line'` 的图形无效。"
   ]
  },
  {
   "cell_type": "code",
   "execution_count": null,
   "metadata": {
    "scrolled": false
   },
   "outputs": [],
   "source": [
    "test_CanvasMeta()"
   ]
  },
  {
   "cell_type": "markdown",
   "metadata": {},
   "source": [
    "## 2 画圆与正方形"
   ]
  },
  {
   "cell_type": "code",
   "execution_count": null,
   "metadata": {},
   "outputs": [],
   "source": [
    "def test_CanvasSquare():\n",
    "    from tkinter import Tk\n",
    "    from tkinterx.graph.canvas import CanvasMeta\n",
    "    root = Tk()\n",
    "    root.geometry('350x350')\n",
    "    self = CanvasMeta(root, background='pink', width=300, height=300)\n",
    "    self.create_point((20, 20), color='red', width=5)  # 设置点的大小为 5\n",
    "    self.create_circle((80, 80), radius=40, color='yellow', width=2)\n",
    "    self.create_circle((180, 180), radius=40,\n",
    "                       color='yellow', width=2, fill='red')\n",
    "    self.create_square((80, 100), radius=40, color='red', width=2)\n",
    "    self.create_square((180, 100), radius=40, color='red',\n",
    "                       width=2, fill='yellow')\n",
    "    self.grid(row=0, column=0)\n",
    "    root.mainloop()"
   ]
  },
  {
   "cell_type": "markdown",
   "metadata": {},
   "source": [
    "1. 其中 `self.create_point` 创建点。其他的参数设定是一致的，第一个参数表示点的坐标，您可以使用 `width` 设定点的大小。\n",
    "2. `self.create_circle` 与 `self.create_square` 分别用于创建 **圆** 与 **正方形**。参数设定也是一致的，第一个参数是图形的中心，第二个参数是圆的“半径”或者正方形的对角线的一半。"
   ]
  },
  {
   "cell_type": "code",
   "execution_count": null,
   "metadata": {
    "scrolled": true
   },
   "outputs": [],
   "source": [
    "test_CanvasSquare()"
   ]
  },
  {
   "cell_type": "markdown",
   "metadata": {},
   "source": [
    "也可以画出不同颜色的圆形块："
   ]
  },
  {
   "cell_type": "code",
   "execution_count": null,
   "metadata": {},
   "outputs": [],
   "source": [
    "from tkinter import Tk\n",
    "from tkinterx.graph.canvas import CanvasMeta\n",
    "from tkinterx.tools.colors import color_dict\n",
    "\n",
    "root = Tk()\n",
    "self = CanvasMeta(root, width=600, height=600)\n",
    "row = -1\n",
    "column = -1\n",
    "x, y = 25, 25\n",
    "for k, color in enumerate(color_dict):\n",
    "    if k % 10 == 0:\n",
    "        row += 1\n",
    "        column = 0\n",
    "    column += 1\n",
    "    self.create_circle((x+row*40, y+column*40), 20,\n",
    "                       color='yellow', tags=color, fill=color)\n",
    "self.grid()\n",
    "root.mainloop()"
   ]
  },
  {
   "cell_type": "markdown",
   "metadata": {},
   "source": [
    "## 3 按行或者列创建图形对象"
   ]
  },
  {
   "cell_type": "code",
   "execution_count": null,
   "metadata": {
    "scrolled": true
   },
   "outputs": [],
   "source": [
    "from tkinterx.param import ParamDict\n",
    "from tkinterx.graph.canvas import CanvasMeta\n",
    "from tkinter import Tk\n",
    "\n",
    "\n",
    "class SimpleGraph(CanvasMeta):\n",
    "    color = ParamDict()\n",
    "    shape = ParamDict()\n",
    "\n",
    "    def __init__(self, master, shape, color, cnf={}, **kw):\n",
    "        '''The base class of all graphics frames.\n",
    "\n",
    "        :param master: a widget of tkinter or tkinter.ttk.\n",
    "        '''\n",
    "        super().__init__(master, cnf, **kw)\n",
    "        self.color = color\n",
    "        self.shape = shape\n",
    "\n",
    "    def draw(self, direction, width=1, tags=None, **kw):\n",
    "        kw.update({'color': self.color, 'width': width, 'tags': tags})\n",
    "        return self.create_graph(self.shape, direction, **kw)\n",
    "\n",
    "    def add_row(self, direction, num, stride=10, width=1, tags=None, **kw):\n",
    "        x0, y0, x1, y1 = direction\n",
    "        stride = x1 - x0 + stride\n",
    "        for k in range(num):\n",
    "            direction = [x0+stride*k, y0, x1+stride*k, y1]\n",
    "            self.draw(direction, width=width, tags=tags, **kw)\n",
    "\n",
    "    def add_column(self, direction, num, stride=5, width=1, tags=None, **kw):\n",
    "        x0, y0, x1, y1 = direction\n",
    "        stride = y1 - y0 + stride\n",
    "        for k in range(num):\n",
    "            direction = [x0, y0+stride*k, x1, y1+stride*k]\n",
    "            self.draw(direction, width=width, tags=tags, **kw)\n",
    "\n",
    "\n",
    "if __name__ == \"__main__\":\n",
    "    root = Tk()\n",
    "    self = SimpleGraph(root, 'rectangle', 'red')\n",
    "    self.add_row([15, 15, 40, 40], 10)\n",
    "    self.add_column([15, 45, 40, 80], 5)\n",
    "    self.grid()\n",
    "    root.mainloop()"
   ]
  },
  {
   "cell_type": "markdown",
   "metadata": {},
   "source": [
    "注意 `add_row` 与 `add_column` 的参数均是： `direction, num, stride=10, width=1, tags=None, **kw`。其中 `num` 表示行数或者列数，`stride` 表示图形间隔的像素个数。其余参数同 `CanvasMeta` 的 `draw_graph` 函数的参数。\n",
    "\n",
    "在 tkinterx 中定制了一个可以修改形状、颜色、填充、轮廓宽度的工具："
   ]
  },
  {
   "cell_type": "code",
   "execution_count": null,
   "metadata": {},
   "outputs": [],
   "source": [
    "from tkinter import Tk\n",
    "from tkinterx.graph.canvas_design import SimpleGraph\n",
    "\n",
    "root = Tk()\n",
    "self = SimpleGraph(root, 'rectangle', 'yellow', width=1, fill=None, background='pink')\n",
    "self.add_row([25, 25, 40, 40], 10, 20)\n",
    "self.fill = 'blue' # 修改填充颜色\n",
    "self.add_column([40, 80, 100, 100], 5, 30, tags='TY') # 自定义标签\n",
    "self.grid(row=0, column=0)\n",
    "root.mainloop()"
   ]
  },
  {
   "cell_type": "markdown",
   "metadata": {},
   "source": [
    "也可以画出规则的图形："
   ]
  },
  {
   "cell_type": "code",
   "execution_count": null,
   "metadata": {},
   "outputs": [],
   "source": [
    "from tkinter import Tk\n",
    "from tkinterx.graph.canvas_design import RegularGraph\n",
    "root = Tk()\n",
    "self = RegularGraph(root, 'circle', 'yellow', width=7, fill=None, background='pink')\n",
    "self.fill = 'red'\n",
    "self.draw([140, 140], 40, tags='DF', activedash=7,\n",
    "          activeoutlinestipple='error', activeoutline='red')\n",
    "self.add_row([75, 45], 20, 10)\n",
    "self.width = 0\n",
    "self.fill = 'blue'\n",
    "self.add_column([40, 80], 20, 5)\n",
    "self.shape = 'square'\n",
    "self.width = 5\n",
    "self.add_column([240, 20], radius=10, num=7, stride=25)\n",
    "self.grid(row=0, column=0)\n",
    "root.mainloop()"
   ]
  },
  {
   "cell_type": "markdown",
   "metadata": {},
   "source": [
    "## 4 可传递值的窗体"
   ]
  },
  {
   "cell_type": "code",
   "execution_count": null,
   "metadata": {},
   "outputs": [],
   "source": [
    "import json\n",
    "from tkinter import Tk, StringVar, ttk\n",
    "from tkinterx.meta import WindowMeta, ask_window, askokcancel, showwarning\n",
    "\n",
    "\n",
    "class Window(WindowMeta):\n",
    "    def __init__(self, master=None, cnf={}, **kw):\n",
    "        super().__init__(master, cnf, **kw)\n",
    "\n",
    "    def create_widget(self):\n",
    "        self.add_row('Please enter your name:', 'name')\n",
    "        self.add_row('Please enter your age:', 'age')\n",
    "        self.add_row('Enter your information saving path:', 'save_path')\n",
    "\n",
    "    def save(self, path):\n",
    "        table = self.table.todict()\n",
    "        with open(path, 'w') as fp:\n",
    "            json.dump(table, fp)\n",
    "\n",
    "    def run(self):\n",
    "        self.withdraw()\n",
    "        name = self.table['name']\n",
    "        age = self.table['age']\n",
    "        save_path = str(self.table['save_path'])\n",
    "        if '' in [name, age, save_path]:\n",
    "            showwarning(self)\n",
    "        else:\n",
    "            self.save(save_path)\n",
    "            askokcancel(self)\n",
    "\n",
    "\n",
    "class Root(Tk):\n",
    "    def __init__(self):\n",
    "        super().__init__()\n",
    "        self.label_var = StringVar()\n",
    "        self.create_widgets()\n",
    "        self.layout()\n",
    "\n",
    "    def create_buttons(self):\n",
    "        style = ttk.Style()\n",
    "        style.configure(\"C.TButton\",\n",
    "                        foreground=\"green\",\n",
    "                        background=\"white\",\n",
    "                        relief='raise',\n",
    "                        justify='center',\n",
    "                        font=('YaHei', '10', 'bold'))\n",
    "        self.table_button = ttk.Button(self, text='Fill in your name and age:',\n",
    "                                       command=self.ask_table,\n",
    "                                       style=\"C.TButton\")\n",
    "\n",
    "    def create_widgets(self):\n",
    "        self.create_buttons()\n",
    "        self.label = ttk.Label(self, textvariable=self.label_var)\n",
    "\n",
    "    def ask_table(self):\n",
    "        bunch = ask_window(self, Window)\n",
    "        name, age = bunch['name'], bunch['age']\n",
    "        self.label_var.set(f\"{name}: {age}\")\n",
    "\n",
    "    def layout(self):\n",
    "        self.table_button.pack()\n",
    "        self.label.pack()\n",
    "\n",
    "\n",
    "if __name__ == \"__main__\":\n",
    "    root = Root()\n",
    "    root.geometry('300x200')\n",
    "    root.mainloop()"
   ]
  },
  {
   "cell_type": "markdown",
   "metadata": {},
   "source": [
    "该例子使用了可定制的窗体： `WindowMeta`，该类存在实例方法 `add_row(text, key)` 可以用于创建“行数据”，即 `text: key` 形式的 ttk 小部件。其中 `text`、`key` 分别使用 `ttk.Label` 与 `ttk.Entry` 小部件。对于 `key` 如果设定为 `*path`、`*dir` 则会在您使用鼠标点击其对应的 `text` 时分别打开文件选择器与文件夹选择器。\n",
    "\n",
    "`WindowMeta` 中用户传入的值均被记录在其 `table` 属性字典之中，可以被其他窗体获取。除此之外，`WindowMeta` 还有两个关键的实例方法 `run`（与 ok 按钮绑定）与 `create_widget`（用于创建小部件），需要使用者自行重载，就像 `Window` 之中的那样设计即可。\n",
    "\n",
    "为了在不同窗体之间传递用户传入的信息，还需要借助 ` ask_window` 函数，比如 `Root` 的实例方法 `ask_table` 中的 `bunch = ask_window(self, Window)` 操作。\n",
    "\n",
    "## 5 创建几何画板\n",
    "\n",
    "测试几何画板的**选择面板**："
   ]
  },
  {
   "cell_type": "code",
   "execution_count": null,
   "metadata": {},
   "outputs": [],
   "source": [
    "from tkinter import Tk\n",
    "from tkinterx.graph.canvas_design import Selector\n",
    "root = Tk()\n",
    "select = Selector(root, background='skyblue')\n",
    "select.grid()\n",
    "root.mainloop()"
   ]
  },
  {
   "cell_type": "markdown",
   "metadata": {},
   "source": [
    "组合**画图面板**与**选择面板**："
   ]
  },
  {
   "cell_type": "code",
   "execution_count": null,
   "metadata": {},
   "outputs": [],
   "source": [
    "from tkinterx.graph.painter import GraphMeta\n",
    "from tkinter import Tk\n",
    "\n",
    "root = Tk()\n",
    "selector = Selector(root, background='skyblue')\n",
    "self = GraphMeta(root, selector)\n",
    "self.bind_drawing()\n",
    "selector.grid()\n",
    "self.grid()\n",
    "root.mainloop()"
   ]
  },
  {
   "cell_type": "markdown",
   "metadata": {},
   "source": [
    "添加对所画图形的移动、缩放、删除功能："
   ]
  },
  {
   "cell_type": "code",
   "execution_count": 6,
   "metadata": {},
   "outputs": [],
   "source": [
    "from tkinter import Tk\n",
    "from tkinterx.graph.canvas_design import Selector\n",
    "from tkinterx.graph.painter import GraphPainter\n",
    "\n",
    "class DrawingWindow(Tk):\n",
    "    def __init__(self, **win_kw):\n",
    "        super().__init__(**win_kw)\n",
    "        self.selector = Selector(self, background='skyblue', width=350, height=90)\n",
    "        self.painter = GraphPainter(self, self.selector, background='pink')\n",
    "        self.painter.bind_drawing()\n",
    "        self.painter.bind_master()\n",
    "\n",
    "    def layout(self, row=0, column=0):\n",
    "        self.selector.grid(row=row, column=column)\n",
    "        self.painter.grid(row=row+1, column=column, sticky='nesw')\n",
    "        \n",
    "self = DrawingWindow()\n",
    "self.layout(row=0, column=0)\n",
    "self.mainloop()"
   ]
  },
  {
   "cell_type": "markdown",
   "metadata": {},
   "source": [
    "设定了一些鼠标与键盘的事件绑定。使用实例变量 `record_bbox=[x0, y0, x1, y1]` 追踪画布上的鼠标位置，其中 `(x0, y0)` 记录点击鼠标左键触发的位置，而 `(x1, y1)` 则记录鼠标移动的实时位置。当鼠标左键释放后，`(x0, y0)` 设定为 `['none']*2`。该画笔支持使用 `F1` 清空画布；支持 `Ctrl+a` 选中画布全部图形，然后使用鼠标进行整体移动；支持使用鼠标左键选中图形并拖动到其他位置；支持将鼠标移动到图形内，使用 `Del` 按键进行删除。"
   ]
  },
  {
   "cell_type": "code",
   "execution_count": 2,
   "metadata": {},
   "outputs": [],
   "source": [
    "from tkinter import Tk\n",
    "from tkinterx.graph.canvas_design import Selector\n",
    "from tkinterx.graph.painter import ImageCanvas\n",
    "\n",
    "class DrawingWindow(Tk):\n",
    "    def __init__(self, **win_kw):\n",
    "        super().__init__(**win_kw)\n",
    "        self.selector = Selector(self, background='skyblue', width=350, height=90)\n",
    "        self.painter = ImageCanvas(self, self.selector, background='pink')\n",
    "        self.painter.bind_drawing()\n",
    "\n",
    "    def layout(self, row=0, column=0):\n",
    "        self.selector.grid(row=row, column=column)\n",
    "        self.painter.grid(row=row+1, column=column, sticky='nesw')\n",
    "        \n",
    "self = DrawingWindow()\n",
    "self.layout(row=0, column=0)\n",
    "self.mainloop()"
   ]
  },
  {
   "cell_type": "code",
   "execution_count": 1,
   "metadata": {},
   "outputs": [],
   "source": [
    "import sys\n",
    "sys.path.append('..')"
   ]
  },
  {
   "cell_type": "code",
   "execution_count": null,
   "metadata": {},
   "outputs": [],
   "source": [
    "if 'none' not in self.record_bbox:\n",
    "            x0, y0, x1, y1 = self.record_bbox\n",
    "            stride_x = x1 - x0\n",
    "            stride_y = y1 - y0\n",
    "            cond_x = stride_x > self.min_size[0]\n",
    "            cond_y = stride_y > self.min_size[1]\n",
    "            if (cond_x and cond_y) or graph_type in ['line', 'point']:\n",
    "                return self.mouse_draw_graph(graph_type, color, width, tags, activedash=10, **kw)"
   ]
  }
 ],
 "metadata": {
  "kernelspec": {
   "display_name": "Python 3",
   "language": "python",
   "name": "python3"
  },
  "language_info": {
   "codemirror_mode": {
    "name": "ipython",
    "version": 3
   },
   "file_extension": ".py",
   "mimetype": "text/x-python",
   "name": "python",
   "nbconvert_exporter": "python",
   "pygments_lexer": "ipython3",
   "version": "3.8.3"
  }
 },
 "nbformat": 4,
 "nbformat_minor": 4
}
